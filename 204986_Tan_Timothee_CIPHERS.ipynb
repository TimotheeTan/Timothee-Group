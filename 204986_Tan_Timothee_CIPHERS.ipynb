{
 "cells": [
  {
   "cell_type": "code",
   "execution_count": 85,
   "id": "73a7240f",
   "metadata": {},
   "outputs": [
    {
     "data": {
      "text/plain": [
       "'DWWDFN DW GDZQ'"
      ]
     },
     "execution_count": 85,
     "metadata": {},
     "output_type": "execute_result"
    }
   ],
   "source": [
    "def problem_1(message,shift):\n",
    "    new_text = \"\"\n",
    "    for i in message:\n",
    "        if i.isupper():\n",
    "            i_index = ord(i)-ord(\"A\")\n",
    "            n_index = (i_index + shift) % 26\n",
    "            n_code = n_index + ord(\"A\")\n",
    "            ncharacter= chr(n_code)\n",
    "            new_text = new_text + ncharacter\n",
    "        else:\n",
    "            new_text += i\n",
    "    return new_text\n",
    "problem_1(\"ATTACK AT DAWN\", 3)"
   ]
  },
  {
   "cell_type": "code",
   "execution_count": 88,
   "id": "606df4b7",
   "metadata": {},
   "outputs": [
    {
     "data": {
      "text/plain": [
       "'AOTSRIOALRH_EMRNGIMA_PTT'"
      ]
     },
     "execution_count": 88,
     "metadata": {},
     "output_type": "execute_result"
    }
   ],
   "source": [
    "def problem_2(message,shift):\n",
    "    while len(message)%shift !=0:\n",
    "        message += \"_\"\n",
    "        continue\n",
    "        \n",
    "    plain_text= \"\"\n",
    "    \n",
    "    for i in range(len(message)):\n",
    "        added_text = (i // shift) + (len(message) // shift) * (i % shift)\n",
    "        plain_text += message[added_text]\n",
    "\n",
    "    return (plain_text)\n",
    "\n",
    "problem_2(\"ALGORITHMS_ARE_IMPORTANT\", 8)"
   ]
  },
  {
   "cell_type": "code",
   "execution_count": 91,
   "id": "739c2406",
   "metadata": {},
   "outputs": [
    {
     "data": {
      "text/plain": [
       "'HMNOSMM'"
      ]
     },
     "execution_count": 91,
     "metadata": {},
     "output_type": "execute_result"
    }
   ],
   "source": [
    "def problem_3(message,key):\n",
    "    new_key = key\n",
    "    new_text = \"\"\n",
    "    while len(message) !=len(new_key):\n",
    "        for i in range(0,len(key)):\n",
    "            if len(message) !=len(new_key):\n",
    "                new_key += key[i]\n",
    "            else:\n",
    "                break\n",
    "\n",
    "    for j in range(len(message)):      \n",
    "        if message[j] == \" \":\n",
    "            letter = \" \"\n",
    "        elif ord(message[j]) - 65 + ord(new_key[j]) -65 <= 25:\n",
    "            letter = chr(ord(message[j]) + ord(new_key[j])-65)\n",
    "        elif ord(message[j])-65 + ord(new_key[j]) -65 > 25:\n",
    "            letter = chr(ord(message[j]) + ord(new_key[j])-65 -26)\n",
    "        new_text += letter\n",
    "    return new_text\n",
    "problem_3(\"MEAMORE\",\"VINCE\")"
   ]
  },
  {
   "cell_type": "code",
   "execution_count": 82,
   "id": "95f0b47d",
   "metadata": {},
   "outputs": [
    {
     "data": {
      "text/plain": [
       "'INFORMATION_AGE_'"
      ]
     },
     "execution_count": 82,
     "metadata": {},
     "output_type": "execute_result"
    }
   ],
   "source": [
    "def problem_4(message, shift):\n",
    "    x = 0\n",
    "    plain_text = \"\"\n",
    "    while x < len(message):\n",
    "        number_shifts = len(message) // shift\n",
    "        plain_text +=  message[int(x // number_shifts) + (shift * int(x%number_shifts))]\n",
    "        x += 1\n",
    "    return plain_text\n",
    "\n",
    "problem_4(\"IRIANMOGFANEOT__\", 4)"
   ]
  },
  {
   "cell_type": "code",
   "execution_count": null,
   "id": "d388cbaa",
   "metadata": {},
   "outputs": [],
   "source": []
  }
 ],
 "metadata": {
  "kernelspec": {
   "display_name": "Python 3",
   "language": "python",
   "name": "python3"
  },
  "language_info": {
   "codemirror_mode": {
    "name": "ipython",
    "version": 3
   },
   "file_extension": ".py",
   "mimetype": "text/x-python",
   "name": "python",
   "nbconvert_exporter": "python",
   "pygments_lexer": "ipython3",
   "version": "3.8.8"
  }
 },
 "nbformat": 4,
 "nbformat_minor": 5
}
