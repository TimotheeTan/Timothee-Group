{
 "cells": [
  {
   "cell_type": "code",
   "execution_count": 56,
   "id": "27f02b6e",
   "metadata": {},
   "outputs": [
    {
     "name": "stdout",
     "output_type": "stream",
     "text": [
      "problem_1( 4 )=> 24\n"
     ]
    }
   ],
   "source": [
    "def problem_1(meow):\n",
    "    if meow == 0:\n",
    "        return 1\n",
    "    elif meow < 0:\n",
    "        return (\"Negative numbers are not allowed\")\n",
    "    else:\n",
    "        return meow * factorial(meow-1)\n",
    "print (\"problem_1(\",n,\")=>\",problem_1(4))\n"
   ]
  },
  {
   "cell_type": "code",
   "execution_count": 50,
   "id": "77c18c3d",
   "metadata": {},
   "outputs": [
    {
     "name": "stdout",
     "output_type": "stream",
     "text": [
      "Please input the passphrase:meow\n",
      "Please input the passphrase:meow\n",
      "Please input the passphrase:meow\n"
     ]
    },
    {
     "data": {
      "text/plain": [
       "0"
      ]
     },
     "execution_count": 50,
     "metadata": {},
     "output_type": "execute_result"
    }
   ],
   "source": [
    "def problem_2(meow):\n",
    "    guess = 0\n",
    "    while guess < 3:\n",
    "       \n",
    "        passphrase = str(input(\"Please input the passphrase:\"))\n",
    "    \n",
    "        if meow == passphrase:\n",
    "            return 1\n",
    "            break\n",
    "        elif meow != passphrase:\n",
    "            guess += 1\n",
    "            continue\n",
    "    return 0\n",
    "\n",
    "problem_2(\"ngekngok\")\n",
    "    "
   ]
  },
  {
   "cell_type": "code",
   "execution_count": 52,
   "id": "9fdde193",
   "metadata": {},
   "outputs": [
    {
     "data": {
      "text/plain": [
       "-405.66999999999996"
      ]
     },
     "execution_count": 52,
     "metadata": {},
     "output_type": "execute_result"
    }
   ],
   "source": [
    "def problem_3(temp, original_kind, new_kind): \n",
    "\n",
    "    if original_kind == \"Celsius\" and new_kind == \"Fahrenheit\":  \n",
    "        new_temp = float((9* temp)/ 5 + 32 )\n",
    "        return new_temp\n",
    "    \n",
    "    elif original_kind  == \"Celsius\" and new_kind == \"Kelvin\":\n",
    "        new_temp = float (temp + 273.15)\n",
    "        return new_temp\n",
    "\n",
    "    elif original_kind == \"Fahrenheit\" and new_kind == \"Celsius\": \n",
    "        new_temp = float((temp - 32) * 5 / 9)\n",
    "        return new_temp\n",
    "\n",
    "    elif original_kind == \"Fahrenheit\" and new_kind == \"Kelvin\": \n",
    "        new_temp = float((temp - 32 ) * 5 / 9 + 273.15) \n",
    "        return new_temp\n",
    "    \n",
    "    elif original_kind == \"Kelvin\" and new_kind == \"Celsius\": \n",
    "        new_temp = float (temp - 273.15)\n",
    "        return new_temp\n",
    "\n",
    "    elif original_kind == \"Kelvin\" and new_kind == \"Fahrenheit\": \n",
    "        new_temp = float((temp - 273.15)* 9 / 5 + 32 )\n",
    "        return new_temp\n",
    "\n",
    "problem_3(30, \"Kelvin\", \"Fahrenheit\")"
   ]
  },
  {
   "cell_type": "code",
   "execution_count": 57,
   "id": "618a6137",
   "metadata": {},
   "outputs": [
    {
     "data": {
      "text/plain": [
       "'1P:0/25C:1/10C:2/5C:0/1C:0'"
      ]
     },
     "execution_count": 57,
     "metadata": {},
     "output_type": "execute_result"
    }
   ],
   "source": [
    "def problem_4(meow): \n",
    "    \n",
    "    print = (meow)\n",
    "\n",
    "    peso = meow // 100\n",
    "    meow = meow % 100 \n",
    "\n",
    "    twentyfC = meow // 25\n",
    "    meow = meow % 25\n",
    "\n",
    "    tenC = meow // 10 \n",
    "    meow = meow % 10 \n",
    "\n",
    "    fiveC = meow // 5 \n",
    "    meow = meow % 5\n",
    "\n",
    "    oneC = meow // 1 \n",
    "    meow = meow % 1 \n",
    "\n",
    "    return (f\"1P:{peso}/25C:{twentyfC}/10C:{tenC}/5C:{fiveC}/1C:{oneC}\")  \n",
    "\n",
    "problem_4(45)\n",
    "\n"
   ]
  },
  {
   "cell_type": "code",
   "execution_count": 54,
   "id": "c48089ba",
   "metadata": {},
   "outputs": [
    {
     "data": {
      "text/plain": [
       "'wHy heLLo thErE'"
      ]
     },
     "execution_count": 54,
     "metadata": {},
     "output_type": "execute_result"
    }
   ],
   "source": [
    "def problem_5(meow): \n",
    "    print = (meow)\n",
    "    return (meow.swapcase())\n",
    "\n",
    "problem_5(\"WhY HEllO THeRe\")"
   ]
  },
  {
   "cell_type": "code",
   "execution_count": null,
   "id": "ec55cca9",
   "metadata": {},
   "outputs": [],
   "source": []
  }
 ],
 "metadata": {
  "kernelspec": {
   "display_name": "Python 3",
   "language": "python",
   "name": "python3"
  },
  "language_info": {
   "codemirror_mode": {
    "name": "ipython",
    "version": 3
   },
   "file_extension": ".py",
   "mimetype": "text/x-python",
   "name": "python",
   "nbconvert_exporter": "python",
   "pygments_lexer": "ipython3",
   "version": "3.8.8"
  }
 },
 "nbformat": 4,
 "nbformat_minor": 5
}
