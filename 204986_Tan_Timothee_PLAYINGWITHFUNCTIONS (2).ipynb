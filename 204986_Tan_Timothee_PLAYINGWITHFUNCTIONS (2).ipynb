{
 "cells": [
  {
   "cell_type": "code",
   "execution_count": 24,
   "id": "8341f1c6",
   "metadata": {},
   "outputs": [
    {
     "data": {
      "text/plain": [
       "2432902008176640000"
      ]
     },
     "execution_count": 24,
     "metadata": {},
     "output_type": "execute_result"
    }
   ],
   "source": [
    "def problem_1(number):\n",
    "    factorial = 1\n",
    "    if number == 0:\n",
    "        return 1\n",
    "    elif number < 0:\n",
    "        return (\"Negative numbers are not allowed\")\n",
    "    else:\n",
    "        for i in range(1,number +1):\n",
    "            factorial = factorial * i\n",
    "        return(factorial)\n",
    "problem_1(20)\n"
   ]
  },
  {
   "cell_type": "code",
   "execution_count": 25,
   "id": "5977d51a",
   "metadata": {},
   "outputs": [
    {
     "name": "stdout",
     "output_type": "stream",
     "text": [
      "Please input the passphrase:mathrules\n",
      "Please input the passphrase:kek\n",
      "Please input the passphrase:w\n"
     ]
    },
    {
     "data": {
      "text/plain": [
       "0"
      ]
     },
     "execution_count": 25,
     "metadata": {},
     "output_type": "execute_result"
    }
   ],
   "source": [
    "def problem_2(word):\n",
    "    guess = 0\n",
    "    while guess < 3:\n",
    "       \n",
    "        passphrase = str(input(\"Please input the passphrase:\"))\n",
    "    \n",
    "        if word == passphrase:\n",
    "            return 1\n",
    "            break\n",
    "        elif word != passphrase:\n",
    "            guess += 1\n",
    "            continue\n",
    "    return 0\n",
    "\n",
    "problem_2(\"math rules\")\n",
    "    "
   ]
  },
  {
   "cell_type": "code",
   "execution_count": 20,
   "id": "5c085a07",
   "metadata": {},
   "outputs": [
    {
     "data": {
      "text/plain": [
       "-355.27"
      ]
     },
     "execution_count": 20,
     "metadata": {},
     "output_type": "execute_result"
    }
   ],
   "source": [
    "def problem_3(temp, original_kind, new_kind): \n",
    "\n",
    "    if original_kind == \"Celsius\" and new_kind == \"Fahrenheit\":  \n",
    "        new_temp = float((9* temp)/ 5 + 32 )\n",
    "        return new_temp\n",
    "    \n",
    "    elif original_kind  == \"Celsius\" and new_kind == \"Kelvin\":\n",
    "        new_temp = float (temp + 273.15)\n",
    "        return new_temp\n",
    "\n",
    "    elif original_kind == \"Fahrenheit\" and new_kind == \"Celsius\": \n",
    "        new_temp = float((temp - 32) * 5 / 9)\n",
    "        return new_temp\n",
    "\n",
    "    elif original_kind == \"Fahrenheit\" and new_kind == \"Kelvin\": \n",
    "        new_temp = float((temp - 32 ) * 5 / 9 + 273.15) \n",
    "        return new_temp\n",
    "    \n",
    "    elif original_kind == \"Kelvin\" and new_kind == \"Celsius\": \n",
    "        new_temp = float (temp - 273.15)\n",
    "        return new_temp\n",
    "\n",
    "    elif original_kind == \"Kelvin\" and new_kind == \"Fahrenheit\": \n",
    "        new_temp = float((temp - 273.15)* 9 / 5 + 32 )\n",
    "        return new_temp\n",
    "\n",
    "problem_3(58, \"Kelvin\", \"Fahrenheit\")"
   ]
  },
  {
   "cell_type": "code",
   "execution_count": 28,
   "id": "1f455ef3",
   "metadata": {},
   "outputs": [
    {
     "data": {
      "text/plain": [
       "'1P:1/25C:4/10C:0/5C:0/1C:0'"
      ]
     },
     "execution_count": 28,
     "metadata": {},
     "output_type": "execute_result"
    }
   ],
   "source": [
    "def problem_4(money): \n",
    "\n",
    "    if money >= 0:\n",
    "    \n",
    "        peso = money // 100\n",
    "        money = money % 100 \n",
    "\n",
    "        twentyfC = money // 25\n",
    "        money = money % 25\n",
    "\n",
    "        tenC = money // 10 \n",
    "        money = money % 10 \n",
    "\n",
    "        fiveC = money // 5 \n",
    "        money = money % 5\n",
    "\n",
    "        oneC = money // 1 \n",
    "        money = money % 1 \n",
    "\n",
    "        return (f\"1P:{peso}/25C:{twentyfC}/10C:{tenC}/5C:{fiveC}/1C:{oneC}\") \n",
    "    else:\n",
    "        return(\"sorry but please input a positive integer!\")\n",
    "\n",
    "problem_4(100)\n"
   ]
  },
  {
   "cell_type": "code",
   "execution_count": 29,
   "id": "4d3a88b7",
   "metadata": {},
   "outputs": [
    {
     "data": {
      "text/plain": [
       "'wHyheLLothErE'"
      ]
     },
     "execution_count": 29,
     "metadata": {},
     "output_type": "execute_result"
    }
   ],
   "source": [
    "def problem_5(word): \n",
    "    print = (word)\n",
    "    return (word.swapcase())\n",
    "\n",
    "problem_5(\"WhYHEllOTHeRe\")"
   ]
  },
  {
   "cell_type": "code",
   "execution_count": null,
   "id": "e5093238",
   "metadata": {},
   "outputs": [],
   "source": []
  }
 ],
 "metadata": {
  "kernelspec": {
   "display_name": "Python 3",
   "language": "python",
   "name": "python3"
  },
  "language_info": {
   "codemirror_mode": {
    "name": "ipython",
    "version": 3
   },
   "file_extension": ".py",
   "mimetype": "text/x-python",
   "name": "python",
   "nbconvert_exporter": "python",
   "pygments_lexer": "ipython3",
   "version": "3.8.8"
  }
 },
 "nbformat": 4,
 "nbformat_minor": 5
}
